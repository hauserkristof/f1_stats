{
 "cells": [
  {
   "cell_type": "code",
   "execution_count": 3,
   "metadata": {},
   "outputs": [],
   "source": [
    "import fastf1 as ff1\n",
    "from fastf1 import plotting\n",
    "from matplotlib import pyplot as plt\n",
    "from matplotlib.pyplot import figure\n",
    "from matplotlib.collections import LineCollection\n",
    "from matplotlib import cm\n",
    "import numpy as np\n",
    "import pandas as pd"
   ]
  },
  {
   "cell_type": "code",
   "execution_count": 4,
   "metadata": {},
   "outputs": [],
   "source": [
    "# Setup plotting\n",
    "plotting.setup_mpl()\n",
    "\n",
    "# Enable the cache\n",
    "ff1.Cache.enable_cache('./cache') \n",
    "\n",
    "# Get rid of some pandas warnings that are not relevant for us at the moment\n",
    "pd.options.mode.chained_assignment = None"
   ]
  },
  {
   "cell_type": "code",
   "execution_count": 5,
   "metadata": {},
   "outputs": [
    {
     "name": "stderr",
     "output_type": "stream",
     "text": [
      "/opt/homebrew/lib/python3.9/site-packages/fastf1/core.py:1220: FutureWarning: `Session.load_laps` is deprecated and will beremoved in a future version.\n",
      "Use `Session.load` instead.\n",
      "  warnings.warn(\"`Session.load_laps` is deprecated and will be\"\n",
      "core           INFO \tLoading data for Russian Grand Prix - Race [v2.3.0]\n",
      "api            INFO \tNo cached data found for driver_info. Loading data...\n",
      "api            INFO \tFetching driver list...\n",
      "api            INFO \tData has been written to cache!\n",
      "api            INFO \tNo cached data found for timing_data. Loading data...\n",
      "api            INFO \tFetching timing data...\n",
      "api            INFO \tParsing timing data...\n",
      "api            INFO \tData has been written to cache!\n",
      "api            INFO \tNo cached data found for timing_app_data. Loading data...\n",
      "api            INFO \tFetching timing app data...\n",
      "api            INFO \tData has been written to cache!\n",
      "core           INFO \tProcessing timing data...\n",
      "api            INFO \tNo cached data found for session_status_data. Loading data...\n",
      "api            INFO \tFetching session status data...\n",
      "api            INFO \tData has been written to cache!\n",
      "api            INFO \tNo cached data found for track_status_data. Loading data...\n",
      "api            INFO \tFetching track status data...\n",
      "api            INFO \tData has been written to cache!\n",
      "api            INFO \tNo cached data found for car_data. Loading data...\n",
      "api            INFO \tFetching car data...\n",
      "api            INFO \tParsing car data...\n",
      "api            INFO \tData has been written to cache!\n",
      "api            INFO \tNo cached data found for position_data. Loading data...\n",
      "api            INFO \tFetching position data...\n",
      "api            INFO \tParsing position data...\n",
      "api            INFO \tData has been written to cache!\n",
      "api            INFO \tNo cached data found for weather_data. Loading data...\n",
      "api            INFO \tFetching weather data...\n",
      "api            INFO \tData has been written to cache!\n",
      "api            INFO \tNo cached data found for race_control_messages. Loading data...\n",
      "api            INFO \tFetching race control messages...\n",
      "api            INFO \tData has been written to cache!\n",
      "core           INFO \tFinished loading data for 20 drivers: ['44', '33', '55', '3', '77', '14', '4', '7', '11', '63', '18', '5', '10', '31', '16', '99', '22', '9', '6', '47']\n"
     ]
    }
   ],
   "source": [
    "# Load the session data\n",
    "race = ff1.get_session(2021, 'Russia', 'R')\n",
    "\n",
    "# Get the laps\n",
    "laps = race.load_laps(with_telemetry=True)"
   ]
  },
  {
   "cell_type": "code",
   "execution_count": 6,
   "metadata": {},
   "outputs": [],
   "source": [
    "\n",
    "# Calculate RaceLapNumber (LapNumber minus 1 since the warmup lap is included in LapNumber)\n",
    "laps['RaceLapNumber'] = laps['LapNumber'] - 1\n",
    "\n",
    "# Starting from lap 45 it started raining\n",
    "laps = laps.loc[laps['RaceLapNumber'] >= 45]"
   ]
  },
  {
   "cell_type": "code",
   "execution_count": 7,
   "metadata": {},
   "outputs": [],
   "source": [
    "# Get all drivers\n",
    "drivers = pd.unique(laps['Driver'])\n",
    "\n",
    "telemetry = pd.DataFrame()\n",
    "\n",
    "# Telemetry can only be retrieved driver-by-driver\n",
    "for driver in drivers:\n",
    "    driver_laps = laps.pick_driver(driver)\n",
    "    \n",
    "    # Since we want to compare distances, we need to collect telemetry lap-by-lap to reset the distance\n",
    "    for lap in driver_laps.iterlaps():\n",
    "        driver_telemetry = lap[1].get_telemetry().add_distance()\n",
    "        driver_telemetry['Driver'] = driver\n",
    "        driver_telemetry['Lap'] = lap[1]['RaceLapNumber']\n",
    "        driver_telemetry['Compound'] = lap[1]['Compound']\n",
    "    \n",
    "        telemetry = telemetry.append(driver_telemetry)"
   ]
  },
  {
   "cell_type": "code",
   "execution_count": 8,
   "metadata": {},
   "outputs": [],
   "source": [
    "# Only keep required columns\n",
    "telemetry = telemetry[['Lap', 'Distance', 'Compound', 'Speed', 'X','Y']]\n",
    "\n",
    "# Everything that's not intermediate will be \"slick\"\n",
    "telemetry['Compound'].loc[telemetry['Compound'] != 'INTERMEDIATE'] = 'SLICK'"
   ]
  },
  {
   "cell_type": "code",
   "execution_count": 9,
   "metadata": {},
   "outputs": [],
   "source": [
    "# We want 25 mini-sectors\n",
    "num_minisectors = 25\n",
    "\n",
    "# What is the total distance of a lap?\n",
    "total_distance = max(telemetry['Distance'])\n",
    "\n",
    "# Generate equally sized mini-sectors \n",
    "minisector_length = total_distance / num_minisectors\n",
    "\n",
    "minisectors = [0]\n",
    "\n",
    "for i in range(0, (num_minisectors - 1)):\n",
    "    minisectors.append(minisector_length * (i + 1))"
   ]
  },
  {
   "cell_type": "code",
   "execution_count": 10,
   "metadata": {},
   "outputs": [],
   "source": [
    "# Assign minisector to every row in the telemetry data\n",
    "telemetry['Minisector'] =  telemetry['Distance'].apply(\n",
    "  lambda z: (\n",
    "    minisectors.index(\n",
    "      min(minisectors, key=lambda x: abs(x-z)))+1\n",
    "  )\n",
    ")"
   ]
  },
  {
   "cell_type": "code",
   "execution_count": 11,
   "metadata": {},
   "outputs": [],
   "source": [
    "# Calculate fastest tyre per mini sector\n",
    "average_speed = telemetry.groupby(['Lap', 'Minisector', 'Compound'])['Speed'].mean().reset_index()\n"
   ]
  },
  {
   "cell_type": "code",
   "execution_count": 12,
   "metadata": {},
   "outputs": [],
   "source": [
    "# Select the compound with the highest average speed\n",
    "fastest_compounds = average_speed.loc[average_speed.groupby(['Lap', 'Minisector'])['Speed'].idxmax()]\n",
    "\n",
    "# Get rid of the speed column and rename the Compound column\n",
    "fastest_compounds = fastest_compounds[['Lap', 'Minisector', 'Compound']].rename(columns={'Compound': 'Fastest_compound'})\n"
   ]
  },
  {
   "cell_type": "code",
   "execution_count": 13,
   "metadata": {},
   "outputs": [],
   "source": [
    "# Join the fastest compound per minisector with the full telemetry\n",
    "telemetry = telemetry.merge(fastest_compounds, on=['Lap', 'Minisector'])\n",
    "\n",
    "# Order the data by distance to make matploblib does not get confused\n",
    "telemetry = telemetry.sort_values(by=['Distance'])\n",
    "\n",
    "# Assign integer value to the compound because that's what matplotlib wants\n",
    "telemetry.loc[telemetry['Fastest_compound'] == \"INTERMEDIATE\", 'Fastest_compound_int'] = 1\n",
    "telemetry.loc[telemetry['Fastest_compound'] == \"SLICK\", 'Fastest_compound_int'] = 2"
   ]
  },
  {
   "cell_type": "code",
   "execution_count": 16,
   "metadata": {},
   "outputs": [],
   "source": [
    "def generate_minisector_plot(lap, save=False, details=True):\n",
    "    single_lap = telemetry.loc[telemetry['Lap'] == lap]\n",
    "\n",
    "    x = np.array(single_lap['X'].values)\n",
    "    y = np.array(single_lap['Y'].values)\n",
    "\n",
    "    points = np.array([x, y]).T.reshape(-1, 1, 2)\n",
    "    segments = np.concatenate([points[:-1], points[1:]], axis=1)\n",
    "    compound = single_lap['Fastest_compound_int'].to_numpy().astype(float)\n",
    "\n",
    "    cmap = cm.get_cmap('ocean', 2)\n",
    "    lc_comp = LineCollection(segments, norm=plt.Normalize(1, cmap.N+1), cmap=cmap)\n",
    "    lc_comp.set_array(compound)\n",
    "    lc_comp.set_linewidth(2)\n",
    "\n",
    "    plt.rcParams['figure.figsize'] = [12, 5]\n",
    "    \n",
    "    if details:\n",
    "        title = plt.suptitle(\n",
    "            f\"2021 Russian GP \\n Lap {lap} - Slicks vs. Inters\"\n",
    "        )\n",
    "        \n",
    "    plt.gca().add_collection(lc_comp)\n",
    "    plt.axis('equal')\n",
    "    plt.tick_params(labelleft=False, left=False, labelbottom=False, bottom=False)\n",
    "    \n",
    "    if details:\n",
    "        cbar = plt.colorbar(mappable=lc_comp, boundaries=np.arange(1, 4))\n",
    "        cbar.set_ticks(np.arange(1.5, 9.5))\n",
    "        cbar.set_ticklabels(['Inters', 'Slicks'])\n",
    "    \n",
    "    if save:\n",
    "        plt.savefig(f\"output/minisectors_lap_{lap}.png\", dpi=300)\n",
    "\n",
    "    plt.show()"
   ]
  },
  {
   "cell_type": "code",
   "execution_count": 17,
   "metadata": {},
   "outputs": [
    {
     "data": {
      "image/png": "[encoded data removed]",
      "text/plain": [
       "<Figure size 1200x500 with 1 Axes>"
      ]
     },
     "metadata": {},
     "output_type": "display_data"
    }
   ],
   "source": [
    "generate_minisector_plot(46, save=True, details=False)\n"
   ]
  }
 ],
 "metadata": {
  "kernelspec": {
   "display_name": "Python 3.9.13 64-bit",
   "language": "python",
   "name": "python3"
  },
  "language_info": {
   "codemirror_mode": {
    "name": "ipython",
    "version": 3
   },
   "file_extension": ".py",
   "mimetype": "text/x-python",
   "name": "python",
   "nbconvert_exporter": "python",
   "pygments_lexer": "ipython3",
   "version": "3.9.13"
  },
  "orig_nbformat": 4,
  "vscode": {
   "interpreter": {
    "hash": "b0fa6594d8f4cbf19f97940f81e996739fb7646882a419484c72d19e05852a7e"
   }
  }
 },
 "nbformat": 4,
 "nbformat_minor": 2
}
